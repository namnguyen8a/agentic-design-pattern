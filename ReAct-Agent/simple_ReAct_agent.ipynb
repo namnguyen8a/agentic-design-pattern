{
 "cells": [
  {
   "cell_type": "code",
   "execution_count": 4,
   "id": "c0abe75e",
   "metadata": {},
   "outputs": [],
   "source": [
    "from google import genai\n",
    "import os\n",
    "import re\n",
    "import httpx\n",
    "from dotenv import load_dotenv\n",
    "\n",
    "load_dotenv()\n",
    "\n",
    "api_key = os.getenv(\"GEMINI_API_KEY\")\n",
    "\n",
    "client = genai.Client(api_key=api_key)"
   ]
  },
  {
   "cell_type": "code",
   "execution_count": 5,
   "id": "9e83d13e",
   "metadata": {},
   "outputs": [],
   "source": [
    "class Agent:\n",
    "    def __init__(self, system=\"\"):\n",
    "        self.system = system\n",
    "        self.messages = []\n",
    "        if self.system:\n",
    "            self.messages.append({\"role\": \"systems\", \"content\": system})\n",
    "    \n",
    "    def __call__(self, message):\n",
    "        self.messages.append({\"role\": \"user\", \"content\": message})\n",
    "        result = self.execute()\n",
    "        self.messages.append({\"role\": \"assistant\", \"content\": result})\n",
    "        return result\n",
    "    \n",
    "    def execute(self):\n",
    "        response = client.models.generate_content(\n",
    "            model=\"gemini-2.0-flash\",\n",
    "            contents=[self.messages],\n",
    "            config=genai.types.GenerateContentConfig(\n",
    "                max_output_tokens=500,\n",
    "                temperature=0\n",
    "            )\n",
    "        )\n",
    "        return response.text"
   ]
  },
  {
   "cell_type": "code",
   "execution_count": 6,
   "id": "35535214",
   "metadata": {},
   "outputs": [],
   "source": [
    "prompt = \"\"\"\n",
    "You operate in a loop of Thought, Action, PAUSE, Observation.\n",
    "At the end of the loop, you output an Answer.\n",
    "\n",
    "Use Thought to explain your reasoning about the travel-related question.\n",
    "\n",
    "Use Action to invoke one of the available tools — then return PAUSE.\n",
    "\n",
    "Observation will be the result of that action.\n",
    "\n",
    "Your available actions are:\n",
    "flight_duration:\n",
    "e.g. flight_duration: New York to Tokyo\n",
    "Returns the average flight time between two cities.\n",
    "\n",
    "currency_conversion:\n",
    "e.g. currency_conversion: 100 USD to EUR\n",
    "Returns the equivalent value in the target currency based on current rates.\n",
    "\n",
    "visa_requirement:\n",
    "e.g. visa_requirement: India to Germany\n",
    "Returns visa requirement information for a citizen of the first country traveling to the second.\n",
    "\n",
    "Question: How long is the flight from London to Tokyo?\n",
    "Thought: I should use the flight_duration action to find the average time for this route.\n",
    "Action: flight_duration: London to Dubai\n",
    "PAUSE\n",
    "\n",
    "You will then be called again with:\n",
    "\n",
    "Observation: The average flight from London to Tokyo takes about 7 hours.\n",
    "\n",
    "You then respond:\n",
    "\n",
    "Answer: The average flight time from London to Tokyo is around 21 hours\n",
    "\"\"\".strip()"
   ]
  },
  {
   "cell_type": "code",
   "execution_count": 7,
   "id": "4abaffe9",
   "metadata": {},
   "outputs": [],
   "source": [
    "def flight_duration(route):\n",
    "    durations = {\n",
    "        \"New York to Tokyo\": \"14 hours\",\n",
    "        \"London to Dubai\": \"7 hours\",\n",
    "        \"Sydney to Los Angeles\": \"13.5 hours\",\n",
    "        \"London to Tokyo\": \"21 hours\"\n",
    "        }\n",
    "    return durations.get(route, \"Flight duration data not available\")\n",
    "\n",
    "def currency_conversion(conversion):\n",
    "    # Very basic mock logic\n",
    "    try:\n",
    "        amount, from_to = conversion.split(\" \", 1)\n",
    "        amount = float(amount)\n",
    "        if \"USD to EUR\" in from_to:\n",
    "            return f\"{amount * 0.91:.2f} EUR\"\n",
    "        elif \"EUR to USD\" in from_to:\n",
    "            return f\"{amount * 1.10:.2f} USD\"\n",
    "        elif \"USD to JPY\" in from_to:\n",
    "            return f\"{amount * 150.0:.2f} JPY\"\n",
    "        else:\n",
    "            return \"Conversion rate not available\"\n",
    "    except:\n",
    "        return \"Invalid conversion format\"\n",
    "\n",
    "def visa_requirement(route):\n",
    "    requirements = {\n",
    "        \"India to Germany\": \"Yes, Indian citizens need a visa to travel to Germany.\",\n",
    "        \"USA to Japan\": \"No visa required for stays up to 90 days.\",\n",
    "        \"UK to Australia\": \"Yes, a visa is required for UK citizens visiting Australia.\",\n",
    "        \"UK to Japan\": \"No visa required for UK citizens visiting Japan for tourism.\"\n",
    "        }\n",
    "    return requirements.get(route, \"Visa requirement data not available\")\n",
    "\n",
    "known_actions = {\n",
    "    \"flight_duration\": flight_duration,\n",
    "    \"currency_conversion\": currency_conversion,\n",
    "    \"visa_requirement\": visa_requirement\n",
    "}"
   ]
  },
  {
   "cell_type": "code",
   "execution_count": 11,
   "id": "f439889f",
   "metadata": {},
   "outputs": [
    {
     "name": "stdout",
     "output_type": "stream",
     "text": [
      "<class 'str'>\n"
     ]
    }
   ],
   "source": [
    "agentbot = Agent(prompt)\n",
    "print(type(agentbot.system))\n"
   ]
  },
  {
   "cell_type": "code",
   "execution_count": 9,
   "id": "79bd9bd3",
   "metadata": {},
   "outputs": [
    {
     "ename": "ValidationError",
     "evalue": "21 validation errors for _GenerateContentParameters\ncontents.list[union[Content,list[union[File,Part,str]],File,Part,str]].0.Content\n  Input should be a valid dictionary or object to extract fields from [type=model_attributes_type, input_value=[{'role': 'systems', 'con...from London to Tokyo?'}], input_type=list]\n    For further information visit https://errors.pydantic.dev/2.11/v/model_attributes_type\ncontents.list[union[Content,list[union[File,Part,str]],File,Part,str]].0.list[union[File,Part,str]].0.File.role\n  Extra inputs are not permitted [type=extra_forbidden, input_value='systems', input_type=str]\n    For further information visit https://errors.pydantic.dev/2.11/v/extra_forbidden\ncontents.list[union[Content,list[union[File,Part,str]],File,Part,str]].0.list[union[File,Part,str]].0.File.content\n  Extra inputs are not permitted [type=extra_forbidden, input_value='You operate in a loop of...okyo is around 21 hours', input_type=str]\n    For further information visit https://errors.pydantic.dev/2.11/v/extra_forbidden\ncontents.list[union[Content,list[union[File,Part,str]],File,Part,str]].0.list[union[File,Part,str]].0.Part.role\n  Extra inputs are not permitted [type=extra_forbidden, input_value='systems', input_type=str]\n    For further information visit https://errors.pydantic.dev/2.11/v/extra_forbidden\ncontents.list[union[Content,list[union[File,Part,str]],File,Part,str]].0.list[union[File,Part,str]].0.Part.content\n  Extra inputs are not permitted [type=extra_forbidden, input_value='You operate in a loop of...okyo is around 21 hours', input_type=str]\n    For further information visit https://errors.pydantic.dev/2.11/v/extra_forbidden\ncontents.list[union[Content,list[union[File,Part,str]],File,Part,str]].0.list[union[File,Part,str]].0.str\n  Input should be a valid string [type=string_type, input_value={'role': 'systems', 'cont...kyo is around 21 hours'}, input_type=dict]\n    For further information visit https://errors.pydantic.dev/2.11/v/string_type\ncontents.list[union[Content,list[union[File,Part,str]],File,Part,str]].0.list[union[File,Part,str]].1.File.role\n  Extra inputs are not permitted [type=extra_forbidden, input_value='user', input_type=str]\n    For further information visit https://errors.pydantic.dev/2.11/v/extra_forbidden\ncontents.list[union[Content,list[union[File,Part,str]],File,Part,str]].0.list[union[File,Part,str]].1.File.content\n  Extra inputs are not permitted [type=extra_forbidden, input_value='How long is the flight from London to Tokyo?', input_type=str]\n    For further information visit https://errors.pydantic.dev/2.11/v/extra_forbidden\ncontents.list[union[Content,list[union[File,Part,str]],File,Part,str]].0.list[union[File,Part,str]].1.Part.role\n  Extra inputs are not permitted [type=extra_forbidden, input_value='user', input_type=str]\n    For further information visit https://errors.pydantic.dev/2.11/v/extra_forbidden\ncontents.list[union[Content,list[union[File,Part,str]],File,Part,str]].0.list[union[File,Part,str]].1.Part.content\n  Extra inputs are not permitted [type=extra_forbidden, input_value='How long is the flight from London to Tokyo?', input_type=str]\n    For further information visit https://errors.pydantic.dev/2.11/v/extra_forbidden\ncontents.list[union[Content,list[union[File,Part,str]],File,Part,str]].0.list[union[File,Part,str]].1.str\n  Input should be a valid string [type=string_type, input_value={'role': 'user', 'content... from London to Tokyo?'}, input_type=dict]\n    For further information visit https://errors.pydantic.dev/2.11/v/string_type\ncontents.list[union[Content,list[union[File,Part,str]],File,Part,str]].0.File\n  Input should be a valid dictionary or object to extract fields from [type=model_attributes_type, input_value=[{'role': 'systems', 'con...from London to Tokyo?'}], input_type=list]\n    For further information visit https://errors.pydantic.dev/2.11/v/model_attributes_type\ncontents.list[union[Content,list[union[File,Part,str]],File,Part,str]].0.Part\n  Input should be a valid dictionary or object to extract fields from [type=model_attributes_type, input_value=[{'role': 'systems', 'con...from London to Tokyo?'}], input_type=list]\n    For further information visit https://errors.pydantic.dev/2.11/v/model_attributes_type\ncontents.list[union[Content,list[union[File,Part,str]],File,Part,str]].0.str\n  Input should be a valid string [type=string_type, input_value=[{'role': 'systems', 'con...from London to Tokyo?'}], input_type=list]\n    For further information visit https://errors.pydantic.dev/2.11/v/string_type\ncontents.Content\n  Input should be a valid dictionary or object to extract fields from [type=model_attributes_type, input_value=[[{'role': 'systems', 'co...rom London to Tokyo?'}]], input_type=list]\n    For further information visit https://errors.pydantic.dev/2.11/v/model_attributes_type\ncontents.list[union[File,Part,str]].0.File\n  Input should be a valid dictionary or object to extract fields from [type=model_attributes_type, input_value=[{'role': 'systems', 'con...from London to Tokyo?'}], input_type=list]\n    For further information visit https://errors.pydantic.dev/2.11/v/model_attributes_type\ncontents.list[union[File,Part,str]].0.Part\n  Input should be a valid dictionary or object to extract fields from [type=model_attributes_type, input_value=[{'role': 'systems', 'con...from London to Tokyo?'}], input_type=list]\n    For further information visit https://errors.pydantic.dev/2.11/v/model_attributes_type\ncontents.list[union[File,Part,str]].0.str\n  Input should be a valid string [type=string_type, input_value=[{'role': 'systems', 'con...from London to Tokyo?'}], input_type=list]\n    For further information visit https://errors.pydantic.dev/2.11/v/string_type\ncontents.File\n  Input should be a valid dictionary or object to extract fields from [type=model_attributes_type, input_value=[[{'role': 'systems', 'co...rom London to Tokyo?'}]], input_type=list]\n    For further information visit https://errors.pydantic.dev/2.11/v/model_attributes_type\ncontents.Part\n  Input should be a valid dictionary or object to extract fields from [type=model_attributes_type, input_value=[[{'role': 'systems', 'co...rom London to Tokyo?'}]], input_type=list]\n    For further information visit https://errors.pydantic.dev/2.11/v/model_attributes_type\ncontents.str\n  Input should be a valid string [type=string_type, input_value=[[{'role': 'systems', 'co...rom London to Tokyo?'}]], input_type=list]\n    For further information visit https://errors.pydantic.dev/2.11/v/string_type",
     "output_type": "error",
     "traceback": [
      "\u001b[31m---------------------------------------------------------------------------\u001b[39m",
      "\u001b[31mValidationError\u001b[39m                           Traceback (most recent call last)",
      "\u001b[36mCell\u001b[39m\u001b[36m \u001b[39m\u001b[32mIn[9]\u001b[39m\u001b[32m, line 1\u001b[39m\n\u001b[32m----> \u001b[39m\u001b[32m1\u001b[39m result = \u001b[43magentbot\u001b[49m\u001b[43m(\u001b[49m\u001b[33;43m\"\u001b[39;49m\u001b[33;43mHow long is the flight from London to Tokyo?\u001b[39;49m\u001b[33;43m\"\u001b[39;49m\u001b[43m)\u001b[49m\n\u001b[32m      2\u001b[39m \u001b[38;5;28mprint\u001b[39m(result)\n",
      "\u001b[36mCell\u001b[39m\u001b[36m \u001b[39m\u001b[32mIn[5]\u001b[39m\u001b[32m, line 10\u001b[39m, in \u001b[36mAgent.__call__\u001b[39m\u001b[34m(self, message)\u001b[39m\n\u001b[32m      8\u001b[39m \u001b[38;5;28;01mdef\u001b[39;00m\u001b[38;5;250m \u001b[39m\u001b[34m__call__\u001b[39m(\u001b[38;5;28mself\u001b[39m, message):\n\u001b[32m      9\u001b[39m     \u001b[38;5;28mself\u001b[39m.messages.append({\u001b[33m\"\u001b[39m\u001b[33mrole\u001b[39m\u001b[33m\"\u001b[39m: \u001b[33m\"\u001b[39m\u001b[33muser\u001b[39m\u001b[33m\"\u001b[39m, \u001b[33m\"\u001b[39m\u001b[33mcontent\u001b[39m\u001b[33m\"\u001b[39m: message})\n\u001b[32m---> \u001b[39m\u001b[32m10\u001b[39m     result = \u001b[38;5;28;43mself\u001b[39;49m\u001b[43m.\u001b[49m\u001b[43mexecute\u001b[49m\u001b[43m(\u001b[49m\u001b[43m)\u001b[49m\n\u001b[32m     11\u001b[39m     \u001b[38;5;28mself\u001b[39m.messages.append({\u001b[33m\"\u001b[39m\u001b[33mrole\u001b[39m\u001b[33m\"\u001b[39m: \u001b[33m\"\u001b[39m\u001b[33massistant\u001b[39m\u001b[33m\"\u001b[39m, \u001b[33m\"\u001b[39m\u001b[33mcontent\u001b[39m\u001b[33m\"\u001b[39m: result})\n\u001b[32m     12\u001b[39m     \u001b[38;5;28;01mreturn\u001b[39;00m result\n",
      "\u001b[36mCell\u001b[39m\u001b[36m \u001b[39m\u001b[32mIn[5]\u001b[39m\u001b[32m, line 15\u001b[39m, in \u001b[36mAgent.execute\u001b[39m\u001b[34m(self)\u001b[39m\n\u001b[32m     14\u001b[39m \u001b[38;5;28;01mdef\u001b[39;00m\u001b[38;5;250m \u001b[39m\u001b[34mexecute\u001b[39m(\u001b[38;5;28mself\u001b[39m):\n\u001b[32m---> \u001b[39m\u001b[32m15\u001b[39m     response = \u001b[43mclient\u001b[49m\u001b[43m.\u001b[49m\u001b[43mmodels\u001b[49m\u001b[43m.\u001b[49m\u001b[43mgenerate_content\u001b[49m\u001b[43m(\u001b[49m\n\u001b[32m     16\u001b[39m \u001b[43m        \u001b[49m\u001b[43mmodel\u001b[49m\u001b[43m=\u001b[49m\u001b[33;43m\"\u001b[39;49m\u001b[33;43mgemini-2.0-flash\u001b[39;49m\u001b[33;43m\"\u001b[39;49m\u001b[43m,\u001b[49m\n\u001b[32m     17\u001b[39m \u001b[43m        \u001b[49m\u001b[43mcontents\u001b[49m\u001b[43m=\u001b[49m\u001b[43m[\u001b[49m\u001b[38;5;28;43mself\u001b[39;49m\u001b[43m.\u001b[49m\u001b[43mmessages\u001b[49m\u001b[43m]\u001b[49m\u001b[43m,\u001b[49m\n\u001b[32m     18\u001b[39m \u001b[43m        \u001b[49m\u001b[43mconfig\u001b[49m\u001b[43m=\u001b[49m\u001b[43mgenai\u001b[49m\u001b[43m.\u001b[49m\u001b[43mtypes\u001b[49m\u001b[43m.\u001b[49m\u001b[43mGenerateContentConfig\u001b[49m\u001b[43m(\u001b[49m\n\u001b[32m     19\u001b[39m \u001b[43m            \u001b[49m\u001b[43mmax_output_tokens\u001b[49m\u001b[43m=\u001b[49m\u001b[32;43m500\u001b[39;49m\u001b[43m,\u001b[49m\n\u001b[32m     20\u001b[39m \u001b[43m            \u001b[49m\u001b[43mtemperature\u001b[49m\u001b[43m=\u001b[49m\u001b[32;43m0\u001b[39;49m\n\u001b[32m     21\u001b[39m \u001b[43m        \u001b[49m\u001b[43m)\u001b[49m\n\u001b[32m     22\u001b[39m \u001b[43m    \u001b[49m\u001b[43m)\u001b[49m\n\u001b[32m     23\u001b[39m     \u001b[38;5;28;01mreturn\u001b[39;00m response.text\n",
      "\u001b[36mFile \u001b[39m\u001b[32mf:\\LearningHub\\courses\\AI-agents\\ReAct-Agent\\.react-agent\\Lib\\site-packages\\google\\genai\\models.py:5049\u001b[39m, in \u001b[36mModels.generate_content\u001b[39m\u001b[34m(self, model, contents, config)\u001b[39m\n\u001b[32m   5047\u001b[39m \u001b[38;5;28;01mwhile\u001b[39;00m remaining_remote_calls_afc > \u001b[32m0\u001b[39m:\n\u001b[32m   5048\u001b[39m   i += \u001b[32m1\u001b[39m\n\u001b[32m-> \u001b[39m\u001b[32m5049\u001b[39m   response = \u001b[38;5;28;43mself\u001b[39;49m\u001b[43m.\u001b[49m\u001b[43m_generate_content\u001b[49m\u001b[43m(\u001b[49m\n\u001b[32m   5050\u001b[39m \u001b[43m      \u001b[49m\u001b[43mmodel\u001b[49m\u001b[43m=\u001b[49m\u001b[43mmodel\u001b[49m\u001b[43m,\u001b[49m\u001b[43m \u001b[49m\u001b[43mcontents\u001b[49m\u001b[43m=\u001b[49m\u001b[43mcontents\u001b[49m\u001b[43m,\u001b[49m\u001b[43m \u001b[49m\u001b[43mconfig\u001b[49m\u001b[43m=\u001b[49m\u001b[43mconfig\u001b[49m\n\u001b[32m   5051\u001b[39m \u001b[43m  \u001b[49m\u001b[43m)\u001b[49m\n\u001b[32m   5052\u001b[39m   logger.info(\u001b[33mf\u001b[39m\u001b[33m'\u001b[39m\u001b[33mAFC remote call \u001b[39m\u001b[38;5;132;01m{\u001b[39;00mi\u001b[38;5;132;01m}\u001b[39;00m\u001b[33m is done.\u001b[39m\u001b[33m'\u001b[39m)\n\u001b[32m   5053\u001b[39m   remaining_remote_calls_afc -= \u001b[32m1\u001b[39m\n",
      "\u001b[36mFile \u001b[39m\u001b[32mf:\\LearningHub\\courses\\AI-agents\\ReAct-Agent\\.react-agent\\Lib\\site-packages\\google\\genai\\models.py:3983\u001b[39m, in \u001b[36mModels._generate_content\u001b[39m\u001b[34m(self, model, contents, config)\u001b[39m\n\u001b[32m   3976\u001b[39m \u001b[38;5;28;01mdef\u001b[39;00m\u001b[38;5;250m \u001b[39m\u001b[34m_generate_content\u001b[39m(\n\u001b[32m   3977\u001b[39m     \u001b[38;5;28mself\u001b[39m,\n\u001b[32m   3978\u001b[39m     *,\n\u001b[32m   (...)\u001b[39m\u001b[32m   3981\u001b[39m     config: Optional[types.GenerateContentConfigOrDict] = \u001b[38;5;28;01mNone\u001b[39;00m,\n\u001b[32m   3982\u001b[39m ) -> types.GenerateContentResponse:\n\u001b[32m-> \u001b[39m\u001b[32m3983\u001b[39m   parameter_model = \u001b[43mtypes\u001b[49m\u001b[43m.\u001b[49m\u001b[43m_GenerateContentParameters\u001b[49m\u001b[43m(\u001b[49m\n\u001b[32m   3984\u001b[39m \u001b[43m      \u001b[49m\u001b[43mmodel\u001b[49m\u001b[43m=\u001b[49m\u001b[43mmodel\u001b[49m\u001b[43m,\u001b[49m\n\u001b[32m   3985\u001b[39m \u001b[43m      \u001b[49m\u001b[43mcontents\u001b[49m\u001b[43m=\u001b[49m\u001b[43mcontents\u001b[49m\u001b[43m,\u001b[49m\n\u001b[32m   3986\u001b[39m \u001b[43m      \u001b[49m\u001b[43mconfig\u001b[49m\u001b[43m=\u001b[49m\u001b[43mconfig\u001b[49m\u001b[43m,\u001b[49m\n\u001b[32m   3987\u001b[39m \u001b[43m  \u001b[49m\u001b[43m)\u001b[49m\n\u001b[32m   3989\u001b[39m   request_url_dict: Optional[\u001b[38;5;28mdict\u001b[39m[\u001b[38;5;28mstr\u001b[39m, \u001b[38;5;28mstr\u001b[39m]]\n\u001b[32m   3991\u001b[39m   \u001b[38;5;28;01mif\u001b[39;00m \u001b[38;5;28mself\u001b[39m._api_client.vertexai:\n",
      "\u001b[36mFile \u001b[39m\u001b[32mf:\\LearningHub\\courses\\AI-agents\\ReAct-Agent\\.react-agent\\Lib\\site-packages\\pydantic\\main.py:253\u001b[39m, in \u001b[36mBaseModel.__init__\u001b[39m\u001b[34m(self, **data)\u001b[39m\n\u001b[32m    251\u001b[39m \u001b[38;5;66;03m# `__tracebackhide__` tells pytest and some other tools to omit this function from tracebacks\u001b[39;00m\n\u001b[32m    252\u001b[39m __tracebackhide__ = \u001b[38;5;28;01mTrue\u001b[39;00m\n\u001b[32m--> \u001b[39m\u001b[32m253\u001b[39m validated_self = \u001b[38;5;28;43mself\u001b[39;49m\u001b[43m.\u001b[49m\u001b[43m__pydantic_validator__\u001b[49m\u001b[43m.\u001b[49m\u001b[43mvalidate_python\u001b[49m\u001b[43m(\u001b[49m\u001b[43mdata\u001b[49m\u001b[43m,\u001b[49m\u001b[43m \u001b[49m\u001b[43mself_instance\u001b[49m\u001b[43m=\u001b[49m\u001b[38;5;28;43mself\u001b[39;49m\u001b[43m)\u001b[49m\n\u001b[32m    254\u001b[39m \u001b[38;5;28;01mif\u001b[39;00m \u001b[38;5;28mself\u001b[39m \u001b[38;5;129;01mis\u001b[39;00m \u001b[38;5;129;01mnot\u001b[39;00m validated_self:\n\u001b[32m    255\u001b[39m     warnings.warn(\n\u001b[32m    256\u001b[39m         \u001b[33m'\u001b[39m\u001b[33mA custom validator is returning a value other than `self`.\u001b[39m\u001b[38;5;130;01m\\n\u001b[39;00m\u001b[33m'\u001b[39m\n\u001b[32m    257\u001b[39m         \u001b[33m\"\u001b[39m\u001b[33mReturning anything other than `self` from a top level model validator isn\u001b[39m\u001b[33m'\u001b[39m\u001b[33mt supported when validating via `__init__`.\u001b[39m\u001b[38;5;130;01m\\n\u001b[39;00m\u001b[33m\"\u001b[39m\n\u001b[32m    258\u001b[39m         \u001b[33m'\u001b[39m\u001b[33mSee the `model_validator` docs (https://docs.pydantic.dev/latest/concepts/validators/#model-validators) for more details.\u001b[39m\u001b[33m'\u001b[39m,\n\u001b[32m    259\u001b[39m         stacklevel=\u001b[32m2\u001b[39m,\n\u001b[32m    260\u001b[39m     )\n",
      "\u001b[31mValidationError\u001b[39m: 21 validation errors for _GenerateContentParameters\ncontents.list[union[Content,list[union[File,Part,str]],File,Part,str]].0.Content\n  Input should be a valid dictionary or object to extract fields from [type=model_attributes_type, input_value=[{'role': 'systems', 'con...from London to Tokyo?'}], input_type=list]\n    For further information visit https://errors.pydantic.dev/2.11/v/model_attributes_type\ncontents.list[union[Content,list[union[File,Part,str]],File,Part,str]].0.list[union[File,Part,str]].0.File.role\n  Extra inputs are not permitted [type=extra_forbidden, input_value='systems', input_type=str]\n    For further information visit https://errors.pydantic.dev/2.11/v/extra_forbidden\ncontents.list[union[Content,list[union[File,Part,str]],File,Part,str]].0.list[union[File,Part,str]].0.File.content\n  Extra inputs are not permitted [type=extra_forbidden, input_value='You operate in a loop of...okyo is around 21 hours', input_type=str]\n    For further information visit https://errors.pydantic.dev/2.11/v/extra_forbidden\ncontents.list[union[Content,list[union[File,Part,str]],File,Part,str]].0.list[union[File,Part,str]].0.Part.role\n  Extra inputs are not permitted [type=extra_forbidden, input_value='systems', input_type=str]\n    For further information visit https://errors.pydantic.dev/2.11/v/extra_forbidden\ncontents.list[union[Content,list[union[File,Part,str]],File,Part,str]].0.list[union[File,Part,str]].0.Part.content\n  Extra inputs are not permitted [type=extra_forbidden, input_value='You operate in a loop of...okyo is around 21 hours', input_type=str]\n    For further information visit https://errors.pydantic.dev/2.11/v/extra_forbidden\ncontents.list[union[Content,list[union[File,Part,str]],File,Part,str]].0.list[union[File,Part,str]].0.str\n  Input should be a valid string [type=string_type, input_value={'role': 'systems', 'cont...kyo is around 21 hours'}, input_type=dict]\n    For further information visit https://errors.pydantic.dev/2.11/v/string_type\ncontents.list[union[Content,list[union[File,Part,str]],File,Part,str]].0.list[union[File,Part,str]].1.File.role\n  Extra inputs are not permitted [type=extra_forbidden, input_value='user', input_type=str]\n    For further information visit https://errors.pydantic.dev/2.11/v/extra_forbidden\ncontents.list[union[Content,list[union[File,Part,str]],File,Part,str]].0.list[union[File,Part,str]].1.File.content\n  Extra inputs are not permitted [type=extra_forbidden, input_value='How long is the flight from London to Tokyo?', input_type=str]\n    For further information visit https://errors.pydantic.dev/2.11/v/extra_forbidden\ncontents.list[union[Content,list[union[File,Part,str]],File,Part,str]].0.list[union[File,Part,str]].1.Part.role\n  Extra inputs are not permitted [type=extra_forbidden, input_value='user', input_type=str]\n    For further information visit https://errors.pydantic.dev/2.11/v/extra_forbidden\ncontents.list[union[Content,list[union[File,Part,str]],File,Part,str]].0.list[union[File,Part,str]].1.Part.content\n  Extra inputs are not permitted [type=extra_forbidden, input_value='How long is the flight from London to Tokyo?', input_type=str]\n    For further information visit https://errors.pydantic.dev/2.11/v/extra_forbidden\ncontents.list[union[Content,list[union[File,Part,str]],File,Part,str]].0.list[union[File,Part,str]].1.str\n  Input should be a valid string [type=string_type, input_value={'role': 'user', 'content... from London to Tokyo?'}, input_type=dict]\n    For further information visit https://errors.pydantic.dev/2.11/v/string_type\ncontents.list[union[Content,list[union[File,Part,str]],File,Part,str]].0.File\n  Input should be a valid dictionary or object to extract fields from [type=model_attributes_type, input_value=[{'role': 'systems', 'con...from London to Tokyo?'}], input_type=list]\n    For further information visit https://errors.pydantic.dev/2.11/v/model_attributes_type\ncontents.list[union[Content,list[union[File,Part,str]],File,Part,str]].0.Part\n  Input should be a valid dictionary or object to extract fields from [type=model_attributes_type, input_value=[{'role': 'systems', 'con...from London to Tokyo?'}], input_type=list]\n    For further information visit https://errors.pydantic.dev/2.11/v/model_attributes_type\ncontents.list[union[Content,list[union[File,Part,str]],File,Part,str]].0.str\n  Input should be a valid string [type=string_type, input_value=[{'role': 'systems', 'con...from London to Tokyo?'}], input_type=list]\n    For further information visit https://errors.pydantic.dev/2.11/v/string_type\ncontents.Content\n  Input should be a valid dictionary or object to extract fields from [type=model_attributes_type, input_value=[[{'role': 'systems', 'co...rom London to Tokyo?'}]], input_type=list]\n    For further information visit https://errors.pydantic.dev/2.11/v/model_attributes_type\ncontents.list[union[File,Part,str]].0.File\n  Input should be a valid dictionary or object to extract fields from [type=model_attributes_type, input_value=[{'role': 'systems', 'con...from London to Tokyo?'}], input_type=list]\n    For further information visit https://errors.pydantic.dev/2.11/v/model_attributes_type\ncontents.list[union[File,Part,str]].0.Part\n  Input should be a valid dictionary or object to extract fields from [type=model_attributes_type, input_value=[{'role': 'systems', 'con...from London to Tokyo?'}], input_type=list]\n    For further information visit https://errors.pydantic.dev/2.11/v/model_attributes_type\ncontents.list[union[File,Part,str]].0.str\n  Input should be a valid string [type=string_type, input_value=[{'role': 'systems', 'con...from London to Tokyo?'}], input_type=list]\n    For further information visit https://errors.pydantic.dev/2.11/v/string_type\ncontents.File\n  Input should be a valid dictionary or object to extract fields from [type=model_attributes_type, input_value=[[{'role': 'systems', 'co...rom London to Tokyo?'}]], input_type=list]\n    For further information visit https://errors.pydantic.dev/2.11/v/model_attributes_type\ncontents.Part\n  Input should be a valid dictionary or object to extract fields from [type=model_attributes_type, input_value=[[{'role': 'systems', 'co...rom London to Tokyo?'}]], input_type=list]\n    For further information visit https://errors.pydantic.dev/2.11/v/model_attributes_type\ncontents.str\n  Input should be a valid string [type=string_type, input_value=[[{'role': 'systems', 'co...rom London to Tokyo?'}]], input_type=list]\n    For further information visit https://errors.pydantic.dev/2.11/v/string_type"
     ]
    }
   ],
   "source": [
    "result = agentbot(\"How long is the flight from London to Tokyo?\")\n",
    "print(result)"
   ]
  },
  {
   "cell_type": "code",
   "execution_count": null,
   "id": "49c3c187",
   "metadata": {},
   "outputs": [],
   "source": []
  }
 ],
 "metadata": {
  "kernelspec": {
   "display_name": ".react-agent",
   "language": "python",
   "name": "python3"
  },
  "language_info": {
   "codemirror_mode": {
    "name": "ipython",
    "version": 3
   },
   "file_extension": ".py",
   "mimetype": "text/x-python",
   "name": "python",
   "nbconvert_exporter": "python",
   "pygments_lexer": "ipython3",
   "version": "3.11.0"
  }
 },
 "nbformat": 4,
 "nbformat_minor": 5
}
